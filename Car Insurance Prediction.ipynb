{
 "cells": [
  {
   "cell_type": "code",
   "execution_count": 76,
   "id": "7c8d7456-63e5-44b5-9bf7-b38e461c09cc",
   "metadata": {},
   "outputs": [],
   "source": [
    "import numpy as np \n",
    "import pandas as pd"
   ]
  },
  {
   "cell_type": "code",
   "execution_count": 77,
   "id": "56bf526a-9654-4988-8a1e-d4f4c5dafd98",
   "metadata": {},
   "outputs": [],
   "source": [
    "data = pd.read_csv(\"car_insurance_claim.csv\")"
   ]
  },
  {
   "cell_type": "code",
   "execution_count": 78,
   "id": "5e199830-7fe8-4d9c-8ec3-a240c6217b2b",
   "metadata": {},
   "outputs": [
    {
     "data": {
      "text/html": [
       "<div>\n",
       "<style scoped>\n",
       "    .dataframe tbody tr th:only-of-type {\n",
       "        vertical-align: middle;\n",
       "    }\n",
       "\n",
       "    .dataframe tbody tr th {\n",
       "        vertical-align: top;\n",
       "    }\n",
       "\n",
       "    .dataframe thead th {\n",
       "        text-align: right;\n",
       "    }\n",
       "</style>\n",
       "<table border=\"1\" class=\"dataframe\">\n",
       "  <thead>\n",
       "    <tr style=\"text-align: right;\">\n",
       "      <th></th>\n",
       "      <th>0</th>\n",
       "      <th>1</th>\n",
       "      <th>2</th>\n",
       "      <th>3</th>\n",
       "      <th>4</th>\n",
       "    </tr>\n",
       "  </thead>\n",
       "  <tbody>\n",
       "    <tr>\n",
       "      <th>ID</th>\n",
       "      <td>63581743</td>\n",
       "      <td>132761049</td>\n",
       "      <td>921317019</td>\n",
       "      <td>727598473</td>\n",
       "      <td>450221861</td>\n",
       "    </tr>\n",
       "    <tr>\n",
       "      <th>KIDSDRIV</th>\n",
       "      <td>0</td>\n",
       "      <td>0</td>\n",
       "      <td>0</td>\n",
       "      <td>0</td>\n",
       "      <td>0</td>\n",
       "    </tr>\n",
       "    <tr>\n",
       "      <th>BIRTH</th>\n",
       "      <td>16MAR39</td>\n",
       "      <td>21JAN56</td>\n",
       "      <td>18NOV51</td>\n",
       "      <td>05MAR64</td>\n",
       "      <td>05JUN48</td>\n",
       "    </tr>\n",
       "    <tr>\n",
       "      <th>AGE</th>\n",
       "      <td>60.0</td>\n",
       "      <td>43.0</td>\n",
       "      <td>48.0</td>\n",
       "      <td>35.0</td>\n",
       "      <td>51.0</td>\n",
       "    </tr>\n",
       "    <tr>\n",
       "      <th>HOMEKIDS</th>\n",
       "      <td>0</td>\n",
       "      <td>0</td>\n",
       "      <td>0</td>\n",
       "      <td>1</td>\n",
       "      <td>0</td>\n",
       "    </tr>\n",
       "    <tr>\n",
       "      <th>YOJ</th>\n",
       "      <td>11.0</td>\n",
       "      <td>11.0</td>\n",
       "      <td>11.0</td>\n",
       "      <td>10.0</td>\n",
       "      <td>14.0</td>\n",
       "    </tr>\n",
       "    <tr>\n",
       "      <th>INCOME</th>\n",
       "      <td>$67,349</td>\n",
       "      <td>$91,449</td>\n",
       "      <td>$52,881</td>\n",
       "      <td>$16,039</td>\n",
       "      <td>NaN</td>\n",
       "    </tr>\n",
       "    <tr>\n",
       "      <th>PARENT1</th>\n",
       "      <td>No</td>\n",
       "      <td>No</td>\n",
       "      <td>No</td>\n",
       "      <td>No</td>\n",
       "      <td>No</td>\n",
       "    </tr>\n",
       "    <tr>\n",
       "      <th>HOME_VAL</th>\n",
       "      <td>$0</td>\n",
       "      <td>$257,252</td>\n",
       "      <td>$0</td>\n",
       "      <td>$124,191</td>\n",
       "      <td>$306,251</td>\n",
       "    </tr>\n",
       "    <tr>\n",
       "      <th>MSTATUS</th>\n",
       "      <td>z_No</td>\n",
       "      <td>z_No</td>\n",
       "      <td>z_No</td>\n",
       "      <td>Yes</td>\n",
       "      <td>Yes</td>\n",
       "    </tr>\n",
       "    <tr>\n",
       "      <th>GENDER</th>\n",
       "      <td>M</td>\n",
       "      <td>M</td>\n",
       "      <td>M</td>\n",
       "      <td>z_F</td>\n",
       "      <td>M</td>\n",
       "    </tr>\n",
       "    <tr>\n",
       "      <th>EDUCATION</th>\n",
       "      <td>PhD</td>\n",
       "      <td>z_High School</td>\n",
       "      <td>Bachelors</td>\n",
       "      <td>z_High School</td>\n",
       "      <td>&lt;High School</td>\n",
       "    </tr>\n",
       "    <tr>\n",
       "      <th>OCCUPATION</th>\n",
       "      <td>Professional</td>\n",
       "      <td>z_Blue Collar</td>\n",
       "      <td>Manager</td>\n",
       "      <td>Clerical</td>\n",
       "      <td>z_Blue Collar</td>\n",
       "    </tr>\n",
       "    <tr>\n",
       "      <th>TRAVTIME</th>\n",
       "      <td>14</td>\n",
       "      <td>22</td>\n",
       "      <td>26</td>\n",
       "      <td>5</td>\n",
       "      <td>32</td>\n",
       "    </tr>\n",
       "    <tr>\n",
       "      <th>CAR_USE</th>\n",
       "      <td>Private</td>\n",
       "      <td>Commercial</td>\n",
       "      <td>Private</td>\n",
       "      <td>Private</td>\n",
       "      <td>Private</td>\n",
       "    </tr>\n",
       "    <tr>\n",
       "      <th>BLUEBOOK</th>\n",
       "      <td>$14,230</td>\n",
       "      <td>$14,940</td>\n",
       "      <td>$21,970</td>\n",
       "      <td>$4,010</td>\n",
       "      <td>$15,440</td>\n",
       "    </tr>\n",
       "    <tr>\n",
       "      <th>TIF</th>\n",
       "      <td>11</td>\n",
       "      <td>1</td>\n",
       "      <td>1</td>\n",
       "      <td>4</td>\n",
       "      <td>7</td>\n",
       "    </tr>\n",
       "    <tr>\n",
       "      <th>CAR_TYPE</th>\n",
       "      <td>Minivan</td>\n",
       "      <td>Minivan</td>\n",
       "      <td>Van</td>\n",
       "      <td>z_SUV</td>\n",
       "      <td>Minivan</td>\n",
       "    </tr>\n",
       "    <tr>\n",
       "      <th>RED_CAR</th>\n",
       "      <td>yes</td>\n",
       "      <td>yes</td>\n",
       "      <td>yes</td>\n",
       "      <td>no</td>\n",
       "      <td>yes</td>\n",
       "    </tr>\n",
       "    <tr>\n",
       "      <th>OLDCLAIM</th>\n",
       "      <td>$4,461</td>\n",
       "      <td>$0</td>\n",
       "      <td>$0</td>\n",
       "      <td>$38,690</td>\n",
       "      <td>$0</td>\n",
       "    </tr>\n",
       "    <tr>\n",
       "      <th>CLM_FREQ</th>\n",
       "      <td>2</td>\n",
       "      <td>0</td>\n",
       "      <td>0</td>\n",
       "      <td>2</td>\n",
       "      <td>0</td>\n",
       "    </tr>\n",
       "    <tr>\n",
       "      <th>REVOKED</th>\n",
       "      <td>No</td>\n",
       "      <td>No</td>\n",
       "      <td>No</td>\n",
       "      <td>No</td>\n",
       "      <td>No</td>\n",
       "    </tr>\n",
       "    <tr>\n",
       "      <th>MVR_PTS</th>\n",
       "      <td>3</td>\n",
       "      <td>0</td>\n",
       "      <td>2</td>\n",
       "      <td>3</td>\n",
       "      <td>0</td>\n",
       "    </tr>\n",
       "    <tr>\n",
       "      <th>CLM_AMT</th>\n",
       "      <td>$0</td>\n",
       "      <td>$0</td>\n",
       "      <td>$0</td>\n",
       "      <td>$0</td>\n",
       "      <td>$0</td>\n",
       "    </tr>\n",
       "    <tr>\n",
       "      <th>CAR_AGE</th>\n",
       "      <td>18.0</td>\n",
       "      <td>1.0</td>\n",
       "      <td>10.0</td>\n",
       "      <td>10.0</td>\n",
       "      <td>6.0</td>\n",
       "    </tr>\n",
       "    <tr>\n",
       "      <th>CLAIM_FLAG</th>\n",
       "      <td>0</td>\n",
       "      <td>0</td>\n",
       "      <td>0</td>\n",
       "      <td>0</td>\n",
       "      <td>0</td>\n",
       "    </tr>\n",
       "    <tr>\n",
       "      <th>URBANICITY</th>\n",
       "      <td>Highly Urban/ Urban</td>\n",
       "      <td>Highly Urban/ Urban</td>\n",
       "      <td>Highly Urban/ Urban</td>\n",
       "      <td>Highly Urban/ Urban</td>\n",
       "      <td>Highly Urban/ Urban</td>\n",
       "    </tr>\n",
       "  </tbody>\n",
       "</table>\n",
       "</div>"
      ],
      "text/plain": [
       "                              0                    1                    2  \\\n",
       "ID                     63581743            132761049            921317019   \n",
       "KIDSDRIV                      0                    0                    0   \n",
       "BIRTH                   16MAR39              21JAN56              18NOV51   \n",
       "AGE                        60.0                 43.0                 48.0   \n",
       "HOMEKIDS                      0                    0                    0   \n",
       "YOJ                        11.0                 11.0                 11.0   \n",
       "INCOME                  $67,349              $91,449              $52,881   \n",
       "PARENT1                      No                   No                   No   \n",
       "HOME_VAL                     $0             $257,252                   $0   \n",
       "MSTATUS                    z_No                 z_No                 z_No   \n",
       "GENDER                        M                    M                    M   \n",
       "EDUCATION                   PhD        z_High School            Bachelors   \n",
       "OCCUPATION         Professional        z_Blue Collar              Manager   \n",
       "TRAVTIME                     14                   22                   26   \n",
       "CAR_USE                 Private           Commercial              Private   \n",
       "BLUEBOOK                $14,230              $14,940              $21,970   \n",
       "TIF                          11                    1                    1   \n",
       "CAR_TYPE                Minivan              Minivan                  Van   \n",
       "RED_CAR                     yes                  yes                  yes   \n",
       "OLDCLAIM                 $4,461                   $0                   $0   \n",
       "CLM_FREQ                      2                    0                    0   \n",
       "REVOKED                      No                   No                   No   \n",
       "MVR_PTS                       3                    0                    2   \n",
       "CLM_AMT                      $0                   $0                   $0   \n",
       "CAR_AGE                    18.0                  1.0                 10.0   \n",
       "CLAIM_FLAG                    0                    0                    0   \n",
       "URBANICITY  Highly Urban/ Urban  Highly Urban/ Urban  Highly Urban/ Urban   \n",
       "\n",
       "                              3                    4  \n",
       "ID                    727598473            450221861  \n",
       "KIDSDRIV                      0                    0  \n",
       "BIRTH                   05MAR64              05JUN48  \n",
       "AGE                        35.0                 51.0  \n",
       "HOMEKIDS                      1                    0  \n",
       "YOJ                        10.0                 14.0  \n",
       "INCOME                  $16,039                  NaN  \n",
       "PARENT1                      No                   No  \n",
       "HOME_VAL               $124,191             $306,251  \n",
       "MSTATUS                     Yes                  Yes  \n",
       "GENDER                      z_F                    M  \n",
       "EDUCATION         z_High School         <High School  \n",
       "OCCUPATION             Clerical        z_Blue Collar  \n",
       "TRAVTIME                      5                   32  \n",
       "CAR_USE                 Private              Private  \n",
       "BLUEBOOK                 $4,010              $15,440  \n",
       "TIF                           4                    7  \n",
       "CAR_TYPE                  z_SUV              Minivan  \n",
       "RED_CAR                      no                  yes  \n",
       "OLDCLAIM                $38,690                   $0  \n",
       "CLM_FREQ                      2                    0  \n",
       "REVOKED                      No                   No  \n",
       "MVR_PTS                       3                    0  \n",
       "CLM_AMT                      $0                   $0  \n",
       "CAR_AGE                    10.0                  6.0  \n",
       "CLAIM_FLAG                    0                    0  \n",
       "URBANICITY  Highly Urban/ Urban  Highly Urban/ Urban  "
      ]
     },
     "execution_count": 78,
     "metadata": {},
     "output_type": "execute_result"
    }
   ],
   "source": [
    "data.head().T"
   ]
  },
  {
   "cell_type": "code",
   "execution_count": 79,
   "id": "373c42e1-c0bc-467f-aed9-8d7402d32080",
   "metadata": {},
   "outputs": [
    {
     "name": "stdout",
     "output_type": "stream",
     "text": [
      "<class 'pandas.core.frame.DataFrame'>\n",
      "RangeIndex: 10302 entries, 0 to 10301\n",
      "Data columns (total 27 columns):\n",
      " #   Column      Non-Null Count  Dtype  \n",
      "---  ------      --------------  -----  \n",
      " 0   ID          10302 non-null  int64  \n",
      " 1   KIDSDRIV    10302 non-null  int64  \n",
      " 2   BIRTH       10302 non-null  object \n",
      " 3   AGE         10295 non-null  float64\n",
      " 4   HOMEKIDS    10302 non-null  int64  \n",
      " 5   YOJ         9754 non-null   float64\n",
      " 6   INCOME      9732 non-null   object \n",
      " 7   PARENT1     10302 non-null  object \n",
      " 8   HOME_VAL    9727 non-null   object \n",
      " 9   MSTATUS     10302 non-null  object \n",
      " 10  GENDER      10302 non-null  object \n",
      " 11  EDUCATION   10302 non-null  object \n",
      " 12  OCCUPATION  9637 non-null   object \n",
      " 13  TRAVTIME    10302 non-null  int64  \n",
      " 14  CAR_USE     10302 non-null  object \n",
      " 15  BLUEBOOK    10302 non-null  object \n",
      " 16  TIF         10302 non-null  int64  \n",
      " 17  CAR_TYPE    10302 non-null  object \n",
      " 18  RED_CAR     10302 non-null  object \n",
      " 19  OLDCLAIM    10302 non-null  object \n",
      " 20  CLM_FREQ    10302 non-null  int64  \n",
      " 21  REVOKED     10302 non-null  object \n",
      " 22  MVR_PTS     10302 non-null  int64  \n",
      " 23  CLM_AMT     10302 non-null  object \n",
      " 24  CAR_AGE     9663 non-null   float64\n",
      " 25  CLAIM_FLAG  10302 non-null  int64  \n",
      " 26  URBANICITY  10302 non-null  object \n",
      "dtypes: float64(3), int64(8), object(16)\n",
      "memory usage: 2.1+ MB\n"
     ]
    }
   ],
   "source": [
    "data.info()"
   ]
  },
  {
   "cell_type": "code",
   "execution_count": 80,
   "id": "888b4e2b-b8e5-4145-85bf-ce22ea36e72d",
   "metadata": {},
   "outputs": [
    {
     "data": {
      "text/plain": [
       "ID              0\n",
       "KIDSDRIV        0\n",
       "BIRTH           0\n",
       "AGE             7\n",
       "HOMEKIDS        0\n",
       "YOJ           548\n",
       "INCOME        570\n",
       "PARENT1         0\n",
       "HOME_VAL      575\n",
       "MSTATUS         0\n",
       "GENDER          0\n",
       "EDUCATION       0\n",
       "OCCUPATION    665\n",
       "TRAVTIME        0\n",
       "CAR_USE         0\n",
       "BLUEBOOK        0\n",
       "TIF             0\n",
       "CAR_TYPE        0\n",
       "RED_CAR         0\n",
       "OLDCLAIM        0\n",
       "CLM_FREQ        0\n",
       "REVOKED         0\n",
       "MVR_PTS         0\n",
       "CLM_AMT         0\n",
       "CAR_AGE       639\n",
       "CLAIM_FLAG      0\n",
       "URBANICITY      0\n",
       "dtype: int64"
      ]
     },
     "execution_count": 80,
     "metadata": {},
     "output_type": "execute_result"
    }
   ],
   "source": [
    "data.isnull().sum()"
   ]
  },
  {
   "cell_type": "code",
   "execution_count": 81,
   "id": "d34a8d16-2be0-455f-bd81-6a018565df03",
   "metadata": {},
   "outputs": [
    {
     "data": {
      "text/plain": [
       "ID            0.000000\n",
       "KIDSDRIV      0.000000\n",
       "BIRTH         0.000000\n",
       "AGE           0.067948\n",
       "HOMEKIDS      0.000000\n",
       "YOJ           5.319355\n",
       "INCOME        5.532906\n",
       "PARENT1       0.000000\n",
       "HOME_VAL      5.581440\n",
       "MSTATUS       0.000000\n",
       "GENDER        0.000000\n",
       "EDUCATION     0.000000\n",
       "OCCUPATION    6.455057\n",
       "TRAVTIME      0.000000\n",
       "CAR_USE       0.000000\n",
       "BLUEBOOK      0.000000\n",
       "TIF           0.000000\n",
       "CAR_TYPE      0.000000\n",
       "RED_CAR       0.000000\n",
       "OLDCLAIM      0.000000\n",
       "CLM_FREQ      0.000000\n",
       "REVOKED       0.000000\n",
       "MVR_PTS       0.000000\n",
       "CLM_AMT       0.000000\n",
       "CAR_AGE       6.202679\n",
       "CLAIM_FLAG    0.000000\n",
       "URBANICITY    0.000000\n",
       "dtype: float64"
      ]
     },
     "execution_count": 81,
     "metadata": {},
     "output_type": "execute_result"
    }
   ],
   "source": [
    "(data.isnull().sum()/len(data))*100"
   ]
  },
  {
   "cell_type": "code",
   "execution_count": 82,
   "id": "ab5b1826-b3b3-49fd-adb9-038e039023af",
   "metadata": {},
   "outputs": [
    {
     "data": {
      "text/plain": [
       "Index(['ID', 'KIDSDRIV', 'BIRTH', 'AGE', 'HOMEKIDS', 'YOJ', 'INCOME',\n",
       "       'PARENT1', 'HOME_VAL', 'MSTATUS', 'GENDER', 'EDUCATION', 'OCCUPATION',\n",
       "       'TRAVTIME', 'CAR_USE', 'BLUEBOOK', 'TIF', 'CAR_TYPE', 'RED_CAR',\n",
       "       'OLDCLAIM', 'CLM_FREQ', 'REVOKED', 'MVR_PTS', 'CLM_AMT', 'CAR_AGE',\n",
       "       'CLAIM_FLAG', 'URBANICITY'],\n",
       "      dtype='object')"
      ]
     },
     "execution_count": 82,
     "metadata": {},
     "output_type": "execute_result"
    }
   ],
   "source": [
    "data.columns"
   ]
  },
  {
   "cell_type": "code",
   "execution_count": 83,
   "id": "97c2568d-74bd-4546-b794-7ec41063006e",
   "metadata": {},
   "outputs": [
    {
     "data": {
      "text/plain": [
       "46.0"
      ]
     },
     "execution_count": 83,
     "metadata": {},
     "output_type": "execute_result"
    }
   ],
   "source": [
    "age_mode= data['AGE'].mode()[0]\n",
    "age_mode"
   ]
  },
  {
   "cell_type": "code",
   "execution_count": 84,
   "id": "2754e4af-5b26-459d-be59-e185ba134085",
   "metadata": {},
   "outputs": [],
   "source": [
    "data[\"AGE\"]= data[\"AGE\"].fillna(age_mode)"
   ]
  },
  {
   "cell_type": "code",
   "execution_count": 85,
   "id": "a72d807b-50f3-4f04-bee0-c53a2dd7a778",
   "metadata": {},
   "outputs": [],
   "source": [
    "currency_columns = ['INCOME','HOME_VAL']\n",
    "for col in currency_columns:\n",
    "    data[col] = data[col].replace('[\\$,]', '', regex = True).astype(float)"
   ]
  },
  {
   "cell_type": "code",
   "execution_count": 86,
   "id": "39b0eb9a-8476-4148-82e7-a7ed7d5e993b",
   "metadata": {},
   "outputs": [],
   "source": [
    "data.loc[data['YOJ'].isnull() & data['INCOME'].isnull(), ['YOJ', 'INCOME']] = 0"
   ]
  },
  {
   "cell_type": "code",
   "execution_count": 87,
   "id": "2c081271-d6f2-487c-8e5a-c02e831cc696",
   "metadata": {},
   "outputs": [],
   "source": [
    "data.loc[data['YOJ'].isnull() & data['INCOME'].notnull(), 'YOJ'] = 1"
   ]
  },
  {
   "cell_type": "code",
   "execution_count": 88,
   "id": "1410cf13-ae06-483f-a0a6-e0ef6b872d0f",
   "metadata": {},
   "outputs": [],
   "source": [
    "income_Median = data['INCOME'].median()\n",
    "data.loc[data['YOJ']>0 & data['INCOME'].isnull(), 'INCOME'] = income_Median"
   ]
  },
  {
   "cell_type": "code",
   "execution_count": 89,
   "id": "2f589926-3d87-410a-9d3b-c210b2bb1d3d",
   "metadata": {},
   "outputs": [
    {
     "data": {
      "text/plain": [
       "160661.0"
      ]
     },
     "execution_count": 89,
     "metadata": {},
     "output_type": "execute_result"
    }
   ],
   "source": [
    "homeValu_median = data['HOME_VAL'].median()\n",
    "homeValu_median"
   ]
  },
  {
   "cell_type": "code",
   "execution_count": 90,
   "id": "7066f6db-e8eb-49c7-aed0-82f7249218c3",
   "metadata": {},
   "outputs": [],
   "source": [
    "data['HOME_VAL'] = data['HOME_VAL'].fillna(homeValu_median)"
   ]
  },
  {
   "cell_type": "code",
   "execution_count": 91,
   "id": "4a054159-d728-4f94-a227-c198dce9eadb",
   "metadata": {},
   "outputs": [
    {
     "name": "stdout",
     "output_type": "stream",
     "text": [
      "<class 'pandas.core.frame.DataFrame'>\n",
      "RangeIndex: 10302 entries, 0 to 10301\n",
      "Data columns (total 27 columns):\n",
      " #   Column      Non-Null Count  Dtype  \n",
      "---  ------      --------------  -----  \n",
      " 0   ID          10302 non-null  int64  \n",
      " 1   KIDSDRIV    10302 non-null  int64  \n",
      " 2   BIRTH       10302 non-null  object \n",
      " 3   AGE         10302 non-null  float64\n",
      " 4   HOMEKIDS    10302 non-null  int64  \n",
      " 5   YOJ         10302 non-null  float64\n",
      " 6   INCOME      10249 non-null  float64\n",
      " 7   PARENT1     10302 non-null  object \n",
      " 8   HOME_VAL    10302 non-null  float64\n",
      " 9   MSTATUS     10302 non-null  object \n",
      " 10  GENDER      10302 non-null  object \n",
      " 11  EDUCATION   10302 non-null  object \n",
      " 12  OCCUPATION  9637 non-null   object \n",
      " 13  TRAVTIME    10302 non-null  int64  \n",
      " 14  CAR_USE     10302 non-null  object \n",
      " 15  BLUEBOOK    10302 non-null  object \n",
      " 16  TIF         10302 non-null  int64  \n",
      " 17  CAR_TYPE    10302 non-null  object \n",
      " 18  RED_CAR     10302 non-null  object \n",
      " 19  OLDCLAIM    10302 non-null  object \n",
      " 20  CLM_FREQ    10302 non-null  int64  \n",
      " 21  REVOKED     10302 non-null  object \n",
      " 22  MVR_PTS     10302 non-null  int64  \n",
      " 23  CLM_AMT     10302 non-null  object \n",
      " 24  CAR_AGE     9663 non-null   float64\n",
      " 25  CLAIM_FLAG  10302 non-null  int64  \n",
      " 26  URBANICITY  10302 non-null  object \n",
      "dtypes: float64(5), int64(8), object(14)\n",
      "memory usage: 2.1+ MB\n"
     ]
    }
   ],
   "source": [
    "data.info()"
   ]
  },
  {
   "cell_type": "code",
   "execution_count": 94,
   "id": "cb61d5f2-6f88-4c48-a6f4-74ef8797ea8a",
   "metadata": {},
   "outputs": [],
   "source": [
    "data.loc[data['OCCUPATION'].isnull() & data['INCOME'] > 0,'OCCUPATION']=\"others\"\n",
    "data.loc[data['OCCUPATION'].isnull() & data['INCOME'].isnull(),'OCCUPATION']=\"unemployed\""
   ]
  },
  {
   "cell_type": "code",
   "execution_count": 97,
   "id": "cc01357c-4c2e-4afc-b3d8-0a1cc5ffe4ec",
   "metadata": {},
   "outputs": [],
   "source": [
    "carAge_mode = data['CAR_AGE'].mode()[0]"
   ]
  },
  {
   "cell_type": "code",
   "execution_count": 98,
   "id": "71bd8c63-9c7a-4714-bbdd-ed44954d69e9",
   "metadata": {},
   "outputs": [],
   "source": [
    "data['CAR_AGE']= data['CAR_AGE'].fillna(carAge_mode)"
   ]
  },
  {
   "cell_type": "code",
   "execution_count": 99,
   "id": "2215e887-043b-46c7-ac7d-9c31974f5242",
   "metadata": {},
   "outputs": [
    {
     "name": "stdout",
     "output_type": "stream",
     "text": [
      "<class 'pandas.core.frame.DataFrame'>\n",
      "RangeIndex: 10302 entries, 0 to 10301\n",
      "Data columns (total 27 columns):\n",
      " #   Column      Non-Null Count  Dtype  \n",
      "---  ------      --------------  -----  \n",
      " 0   ID          10302 non-null  int64  \n",
      " 1   KIDSDRIV    10302 non-null  int64  \n",
      " 2   BIRTH       10302 non-null  object \n",
      " 3   AGE         10302 non-null  float64\n",
      " 4   HOMEKIDS    10302 non-null  int64  \n",
      " 5   YOJ         10302 non-null  float64\n",
      " 6   INCOME      10249 non-null  float64\n",
      " 7   PARENT1     10302 non-null  object \n",
      " 8   HOME_VAL    10302 non-null  float64\n",
      " 9   MSTATUS     10302 non-null  object \n",
      " 10  GENDER      10302 non-null  object \n",
      " 11  EDUCATION   10302 non-null  object \n",
      " 12  OCCUPATION  10301 non-null  object \n",
      " 13  TRAVTIME    10302 non-null  int64  \n",
      " 14  CAR_USE     10302 non-null  object \n",
      " 15  BLUEBOOK    10302 non-null  object \n",
      " 16  TIF         10302 non-null  int64  \n",
      " 17  CAR_TYPE    10302 non-null  object \n",
      " 18  RED_CAR     10302 non-null  object \n",
      " 19  OLDCLAIM    10302 non-null  object \n",
      " 20  CLM_FREQ    10302 non-null  int64  \n",
      " 21  REVOKED     10302 non-null  object \n",
      " 22  MVR_PTS     10302 non-null  int64  \n",
      " 23  CLM_AMT     10302 non-null  object \n",
      " 24  CAR_AGE     10302 non-null  float64\n",
      " 25  CLAIM_FLAG  10302 non-null  int64  \n",
      " 26  URBANICITY  10302 non-null  object \n",
      "dtypes: float64(5), int64(8), object(14)\n",
      "memory usage: 2.1+ MB\n"
     ]
    }
   ],
   "source": [
    "data.info()"
   ]
  },
  {
   "cell_type": "code",
   "execution_count": 100,
   "id": "5aeb2092-4fe5-45d2-8dcc-b982251fd929",
   "metadata": {},
   "outputs": [
    {
     "data": {
      "image/png": "[encoded data removed]",
      "text/plain": [
       "<Figure size 640x480 with 1 Axes>"
      ]
     },
     "metadata": {},
     "output_type": "display_data"
    }
   ],
   "source": [
    "\n",
    "import matplotlib.pyplot as plt\n",
    "plt.hist(data['AGE'], bins=10, color='skyblue', edgecolor='black')\n",
    "plt.title('Histogram of Age')\n",
    "plt.xlabel('Age')\n",
    "plt.ylabel('Frequency')\n",
    "plt.grid(True)\n",
    "plt.show()"
   ]
  },
  {
   "cell_type": "code",
   "execution_count": 101,
   "id": "9988fff4",
   "metadata": {},
   "outputs": [
    {
     "data": {
      "image/png": "[encoded data removed]",
      "text/plain": [
       "<Figure size 640x480 with 1 Axes>"
      ]
     },
     "metadata": {},
     "output_type": "display_data"
    }
   ],
   "source": [
    "plt.hist(data['CAR_AGE'], bins=10, color= 'skyblue', edgecolor= 'black')\n",
    "plt.title('Histogram of CarAge')\n",
    "plt.xlabel('CarAge')\n",
    "plt.ylabel('Frequency')\n",
    "plt.grid(True)\n",
    "plt.show()"
   ]
  },
  {
   "cell_type": "code",
   "execution_count": 102,
   "id": "e3007893-aca6-45a0-91f6-a4f0cdcaf945",
   "metadata": {},
   "outputs": [
    {
     "data": {
      "image/png": "[encoded data removed]",
      "text/plain": [
       "<Figure size 640x480 with 1 Axes>"
      ]
     },
     "metadata": {},
     "output_type": "display_data"
    }
   ],
   "source": [
    "plt.hist(data['GENDER'], bins = 10, color='skyblue', edgecolor='black')\n",
    "plt.title('Histogram of Gender')\n",
    "plt.xlabel('Gender')\n",
    "plt.ylabel('Frequency')\n",
    "plt.show()"
   ]
  },
  {
   "cell_type": "code",
   "execution_count": null,
   "id": "6004c177-d1da-4111-b5e1-79dcaf4d3369",
   "metadata": {},
   "outputs": [],
   "source": []
  }
 ],
 "metadata": {
  "kernelspec": {
   "display_name": "Python [conda env:base] *",
   "language": "python",
   "name": "conda-base-py"
  },
  "language_info": {
   "codemirror_mode": {
    "name": "ipython",
    "version": 3
   },
   "file_extension": ".py",
   "mimetype": "text/x-python",
   "name": "python",
   "nbconvert_exporter": "python",
   "pygments_lexer": "ipython3",
   "version": "3.11.5"
  }
 },
 "nbformat": 4,
 "nbformat_minor": 5
}
